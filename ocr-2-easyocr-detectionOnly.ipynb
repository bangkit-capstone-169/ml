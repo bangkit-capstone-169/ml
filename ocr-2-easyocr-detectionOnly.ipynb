{
 "cells": [
  {
   "cell_type": "code",
   "execution_count": 1,
   "id": "4f4453d4",
   "metadata": {},
   "outputs": [],
   "source": [
    "import cv2\n",
    "import pytesseract\n",
    "import os\n",
    "import re\n",
    "import numpy as np\n",
    "import tensorflow as tf\n",
    "import shutil\n",
    "from shutil import copyfile"
   ]
  },
  {
   "cell_type": "code",
   "execution_count": 2,
   "id": "89c37a18",
   "metadata": {},
   "outputs": [
    {
     "name": "stdout",
     "output_type": "stream",
     "text": [
      "There are 2\n"
     ]
    },
    {
     "name": "stderr",
     "output_type": "stream",
     "text": [
      "FIND: Invalid switch\n"
     ]
    }
   ],
   "source": [
    "source_path = 'foto_dataset'\n",
    "\n",
    "source_path_struk = os.path.join(source_path, 'struk')\n",
    "source_path_nostruk = os.path.join(source_path, 'nostruk')\n",
    "\n",
    "!find /tmp/PetImages/ -type f ! -name \"*.png\" -exec rm {} +\n",
    "\n",
    "print(f\"There are {len(os.listdir(source_path))}\")"
   ]
  },
  {
   "cell_type": "code",
   "execution_count": 3,
   "id": "293fb5da",
   "metadata": {},
   "outputs": [],
   "source": [
    "import shutil\n",
    "from shutil import copyfile"
   ]
  },
  {
   "cell_type": "code",
   "execution_count": 4,
   "id": "ac92fd62",
   "metadata": {},
   "outputs": [],
   "source": [
    "root_dir = 'train_test_val'\n",
    "\n",
    "if os.path.exists(root_dir):\n",
    "    shutil.rmtree(root_dir)\n",
    "\n",
    "def create_train_val_dirs(root_path):\n",
    "\n",
    "    os.makedirs(os.path.join(f'{root_path}/training', 'struk'))\n",
    "    os.makedirs(os.path.join(f'{root_path}/validation', 'struk'))\n",
    "    os.makedirs(os.path.join(f'{root_path}/training', 'bukan_struk'))\n",
    "    os.makedirs(os.path.join(f'{root_path}/validation', 'bukan_struk'))\n",
    "    \n",
    "try:\n",
    "    create_train_val_dirs(root_path=root_dir)\n",
    "except FileExistsError:\n",
    "  print(\"You should not be seeing this since the upper directory is removed beforehand\")"
   ]
  },
  {
   "cell_type": "code",
   "execution_count": 5,
   "id": "f942cf5d",
   "metadata": {},
   "outputs": [
    {
     "name": "stdout",
     "output_type": "stream",
     "text": [
      "train_test_val\\training\n",
      "train_test_val\\validation\n",
      "train_test_val\\training\\bukan_struk\n",
      "train_test_val\\training\\struk\n",
      "train_test_val\\validation\\bukan_struk\n",
      "train_test_val\\validation\\struk\n"
     ]
    }
   ],
   "source": [
    "for rootdir, dirs, files in os.walk(root_dir):\n",
    "    for subdir in dirs:\n",
    "        print(os.path.join(rootdir, subdir))"
   ]
  },
  {
   "cell_type": "code",
   "execution_count": 6,
   "id": "02e3d72a",
   "metadata": {},
   "outputs": [],
   "source": [
    "def split_data(SOURCE_DIR, TRAINING_DIR, VALIDATION_DIR, SPLIT_SIZE):\n",
    "    shuffled_source = random.sample(os.listdir(SOURCE_DIR), len(os.listdir(SOURCE_DIR)))\n",
    "\n",
    "    training_number = int(len(shuffled_source) * SPLIT_SIZE)\n",
    "\n",
    "    i = 0\n",
    "    target = TRAINING_DIR\n",
    "\n",
    "    for item in shuffled_source:\n",
    "        item_source = os.path.join(SOURCE_DIR, item)\n",
    "        if os.path.getsize(item_source) == 0:\n",
    "            print(f'{item} is zero length, so ignoring.')\n",
    "        else: \n",
    "            copyfile(item_source, os.path.join(target, item))\n",
    "            i += 1\n",
    "\n",
    "        if i == training_number:\n",
    "            target = VALIDATION_DIR"
   ]
  },
  {
   "cell_type": "code",
   "execution_count": 7,
   "id": "d27bde31",
   "metadata": {},
   "outputs": [],
   "source": [
    "import random"
   ]
  },
  {
   "cell_type": "code",
   "execution_count": 8,
   "id": "88b04988",
   "metadata": {
    "scrolled": true
   },
   "outputs": [
    {
     "name": "stdout",
     "output_type": "stream",
     "text": [
      "Original directory has 800 images\n",
      "Original directory has 800 non struk images\n",
      "There are 640 images for training\n",
      "There are 160 images for validation\n",
      "There are 640 non struk images for training\n",
      "There are 160 non struk images for validation\n"
     ]
    }
   ],
   "source": [
    "TRAINING_DIR = \"train_test_val/training/\"\n",
    "VALIDATION_DIR = \"train_test_val/validation/\"\n",
    "\n",
    "TRAINING_STRUK_DIR = os.path.join(TRAINING_DIR, \"struk/\")\n",
    "VALIDATION_STRUK_DIR = os.path.join(VALIDATION_DIR, \"struk/\")\n",
    "\n",
    "TRAINING_NOSTRUK_DIR = os.path.join(TRAINING_DIR, \"bukan_struk/\")\n",
    "VALIDATION_NOSTRUK_DIR = os.path.join(VALIDATION_DIR, \"bukan_struk/\")\n",
    "\n",
    "if len(os.listdir(TRAINING_STRUK_DIR)) > 0:\n",
    "    for file in os.scandir(TRAINING_STRUK_DIR):\n",
    "        os.remove(file.path)\n",
    "if len(os.listdir(VALIDATION_STRUK_DIR)) > 0:\n",
    "    for file in os.scandir(VALIDATION_STRUK_DIR):\n",
    "        os.remove(file.path)\n",
    "if len(os.listdir(TRAINING_NOSTRUK_DIR)) > 0:\n",
    "    for file in os.scandir(TRAINING_NONSTRUK_DIR):\n",
    "        os.remove(file.path)\n",
    "if len(os.listdir(VALIDATION_NOSTRUK_DIR)) > 0:\n",
    "    for file in os.scandir(VALIDATION_NONSTRUK_DIR):\n",
    "        os.remove(file.path)\n",
    "\n",
    "split_size = .8\n",
    "\n",
    "split_data(source_path_struk, TRAINING_STRUK_DIR, VALIDATION_STRUK_DIR, split_size)\n",
    "split_data(source_path_nostruk, TRAINING_NOSTRUK_DIR, VALIDATION_NOSTRUK_DIR, split_size)\n",
    "\n",
    "print(f\"Original directory has {len(os.listdir(source_path_struk))} images\")\n",
    "print(f\"Original directory has {len(os.listdir(source_path_nostruk))} non struk images\")\n",
    "\n",
    "print(f\"There are {len(os.listdir(TRAINING_STRUK_DIR))} images for training\")\n",
    "print(f\"There are {len(os.listdir(VALIDATION_STRUK_DIR))} images for validation\")\n",
    "print(f\"There are {len(os.listdir(TRAINING_NOSTRUK_DIR))} non struk images for training\")\n",
    "print(f\"There are {len(os.listdir(VALIDATION_NOSTRUK_DIR))} non struk images for validation\")"
   ]
  },
  {
   "cell_type": "code",
   "execution_count": 9,
   "id": "34cc94a2",
   "metadata": {},
   "outputs": [],
   "source": [
    "train_count_struk = len(os.listdir(TRAINING_STRUK_DIR))\n",
    "val_count_struk = len(os.listdir(VALIDATION_STRUK_DIR))\n",
    "train_count_nostruk = len(os.listdir(TRAINING_NOSTRUK_DIR))\n",
    "val_count_nostruk = len(os.listdir(VALIDATION_NOSTRUK_DIR))"
   ]
  },
  {
   "cell_type": "code",
   "execution_count": 10,
   "id": "5cfb58ec",
   "metadata": {},
   "outputs": [],
   "source": [
    "from tensorflow.keras.preprocessing.image import ImageDataGenerator"
   ]
  },
  {
   "cell_type": "code",
   "execution_count": 11,
   "id": "ce64280e",
   "metadata": {},
   "outputs": [],
   "source": [
    "def train_val_generators(TRAINING_DIR, VALIDATION_DIR):\n",
    "    train_datagen = ImageDataGenerator(rescale = 1./255,\n",
    "                                      rotation_range=40,\n",
    "                                      width_shift_range=0.2,\n",
    "                                      height_shift_range=0.2,\n",
    "                                      shear_range=0.2,\n",
    "                                      zoom_range=0.2,\n",
    "                                      horizontal_flip=True,\n",
    "                                      fill_mode='nearest')\n",
    "\n",
    "    train_generator = train_datagen.flow_from_directory(directory=TRAINING_DIR,\n",
    "                                                      batch_size=45,\n",
    "                                                      class_mode='binary',\n",
    "                                                      target_size=(150, 150))\n",
    "\n",
    "    validation_datagen = ImageDataGenerator(rescale = 1./255.)\n",
    "\n",
    "    validation_generator = validation_datagen.flow_from_directory(directory=VALIDATION_DIR,\n",
    "                                                                batch_size=5,\n",
    "                                                                class_mode='binary',\n",
    "                                                                target_size=(150, 150))\n",
    "\n",
    "    return train_generator, validation_generator"
   ]
  },
  {
   "cell_type": "code",
   "execution_count": 12,
   "id": "6b730426",
   "metadata": {},
   "outputs": [
    {
     "name": "stdout",
     "output_type": "stream",
     "text": [
      "Found 1280 images belonging to 2 classes.\n",
      "Found 320 images belonging to 2 classes.\n"
     ]
    }
   ],
   "source": [
    "train_generator, validation_generator = train_val_generators(TRAINING_DIR, VALIDATION_DIR)"
   ]
  },
  {
   "cell_type": "code",
   "execution_count": 13,
   "id": "88b8883a",
   "metadata": {},
   "outputs": [],
   "source": [
    "from keras.optimizers import Adam\n",
    "from tensorflow.keras.optimizers import RMSprop\n",
    "\n",
    "def create_model():\n",
    "    model = tf.keras.models.Sequential([ \n",
    "        tf.keras.layers.Conv2D(16, (3,3), activation='relu', input_shape=(150, 150, 3)),\n",
    "        tf.keras.layers.MaxPooling2D(2,2),\n",
    "        tf.keras.layers.Conv2D(32, (3,3), activation='relu'),\n",
    "        tf.keras.layers.MaxPooling2D(2,2), \n",
    "        tf.keras.layers.Conv2D(64, (3,3), activation='relu'), \n",
    "        tf.keras.layers.MaxPooling2D(2,2),\n",
    "        tf.keras.layers.Flatten(), \n",
    "        tf.keras.layers.Dense(512, activation='relu'), \n",
    "        tf.keras.layers.Dense(1, activation='sigmoid')\n",
    "    ])\n",
    "  \n",
    "    model.compile(optimizer=RMSprop(learning_rate=0.001),\n",
    "                loss='binary_crossentropy',\n",
    "                metrics=['accuracy'])\n",
    "\n",
    "    return model"
   ]
  },
  {
   "cell_type": "code",
   "execution_count": 14,
   "id": "3b038725",
   "metadata": {},
   "outputs": [],
   "source": [
    "model = create_model()"
   ]
  },
  {
   "cell_type": "code",
   "execution_count": 15,
   "id": "dbdce27c",
   "metadata": {
    "scrolled": false
   },
   "outputs": [
    {
     "name": "stdout",
     "output_type": "stream",
     "text": [
      "Epoch 1/25\n",
      "29/29 [==============================] - 45s 1s/step - loss: 0.9170 - accuracy: 0.6375 - val_loss: 0.1269 - val_accuracy: 0.9594\n",
      "Epoch 2/25\n",
      "29/29 [==============================] - 33s 1s/step - loss: 0.2053 - accuracy: 0.9328 - val_loss: 0.0841 - val_accuracy: 0.9656\n",
      "Epoch 3/25\n",
      "29/29 [==============================] - 33s 1s/step - loss: 0.1318 - accuracy: 0.9555 - val_loss: 0.0399 - val_accuracy: 0.9844\n",
      "Epoch 4/25\n",
      "29/29 [==============================] - 32s 1s/step - loss: 0.2277 - accuracy: 0.9555 - val_loss: 0.0651 - val_accuracy: 0.9750\n",
      "Epoch 5/25\n",
      "29/29 [==============================] - 32s 1s/step - loss: 0.0873 - accuracy: 0.9734 - val_loss: 0.0265 - val_accuracy: 0.9844\n",
      "Epoch 6/25\n",
      "29/29 [==============================] - 32s 1s/step - loss: 0.1251 - accuracy: 0.9703 - val_loss: 0.0121 - val_accuracy: 0.9937\n",
      "Epoch 7/25\n",
      "29/29 [==============================] - 33s 1s/step - loss: 0.0742 - accuracy: 0.9797 - val_loss: 0.0220 - val_accuracy: 0.9906\n",
      "Epoch 8/25\n",
      "29/29 [==============================] - 33s 1s/step - loss: 0.1142 - accuracy: 0.9563 - val_loss: 0.0770 - val_accuracy: 0.9719\n",
      "Epoch 9/25\n",
      "29/29 [==============================] - 32s 1s/step - loss: 0.0684 - accuracy: 0.9758 - val_loss: 0.0880 - val_accuracy: 0.9531\n",
      "Epoch 10/25\n",
      "29/29 [==============================] - 34s 1s/step - loss: 0.0471 - accuracy: 0.9867 - val_loss: 0.0361 - val_accuracy: 0.9875\n",
      "Epoch 11/25\n",
      "29/29 [==============================] - 33s 1s/step - loss: 0.2883 - accuracy: 0.9648 - val_loss: 0.0498 - val_accuracy: 0.9812\n",
      "Epoch 12/25\n",
      "29/29 [==============================] - 33s 1s/step - loss: 0.0481 - accuracy: 0.9867 - val_loss: 0.0474 - val_accuracy: 0.9812\n",
      "Epoch 13/25\n",
      "29/29 [==============================] - 34s 1s/step - loss: 0.0495 - accuracy: 0.9836 - val_loss: 0.0543 - val_accuracy: 0.9875\n",
      "Epoch 14/25\n",
      "29/29 [==============================] - 34s 1s/step - loss: 0.1534 - accuracy: 0.9555 - val_loss: 0.0363 - val_accuracy: 0.9875\n",
      "Epoch 15/25\n",
      "29/29 [==============================] - 34s 1s/step - loss: 0.0725 - accuracy: 0.9781 - val_loss: 0.0191 - val_accuracy: 0.9937\n",
      "Epoch 16/25\n",
      "29/29 [==============================] - 33s 1s/step - loss: 0.1234 - accuracy: 0.9695 - val_loss: 0.0637 - val_accuracy: 0.9719\n",
      "Epoch 17/25\n",
      "29/29 [==============================] - 37s 1s/step - loss: 0.0317 - accuracy: 0.9914 - val_loss: 0.0233 - val_accuracy: 0.9906\n",
      "Epoch 18/25\n",
      "29/29 [==============================] - 34s 1s/step - loss: 0.0643 - accuracy: 0.9828 - val_loss: 0.0237 - val_accuracy: 0.9937\n",
      "Epoch 19/25\n",
      "29/29 [==============================] - 34s 1s/step - loss: 0.2427 - accuracy: 0.9625 - val_loss: 0.0517 - val_accuracy: 0.9875\n",
      "Epoch 20/25\n",
      "29/29 [==============================] - 34s 1s/step - loss: 0.0377 - accuracy: 0.9898 - val_loss: 0.0176 - val_accuracy: 0.9937\n",
      "Epoch 21/25\n",
      "29/29 [==============================] - 33s 1s/step - loss: 0.2387 - accuracy: 0.9680 - val_loss: 0.0243 - val_accuracy: 0.9875\n",
      "Epoch 22/25\n",
      "29/29 [==============================] - 32s 1s/step - loss: 0.0212 - accuracy: 0.9945 - val_loss: 0.0157 - val_accuracy: 0.9937\n",
      "Epoch 23/25\n",
      "29/29 [==============================] - 33s 1s/step - loss: 0.1013 - accuracy: 0.9688 - val_loss: 0.0461 - val_accuracy: 0.9812\n",
      "Epoch 24/25\n",
      "29/29 [==============================] - 33s 1s/step - loss: 0.0381 - accuracy: 0.9891 - val_loss: 0.0225 - val_accuracy: 0.9906\n",
      "Epoch 25/25\n",
      "29/29 [==============================] - 33s 1s/step - loss: 0.0797 - accuracy: 0.9758 - val_loss: 0.0238 - val_accuracy: 0.9875\n"
     ]
    }
   ],
   "source": [
    "history = model.fit(train_generator,\n",
    "                    epochs=25,\n",
    "                    verbose=1,\n",
    "                    validation_data=validation_generator)"
   ]
  },
  {
   "cell_type": "code",
   "execution_count": 16,
   "id": "46060ed1",
   "metadata": {},
   "outputs": [],
   "source": [
    "import matplotlib.pyplot as plt"
   ]
  },
  {
   "cell_type": "code",
   "execution_count": 17,
   "id": "a32f3a98",
   "metadata": {},
   "outputs": [
    {
     "data": {
      "image/png": "[encoded data removed]",
      "text/plain": [
       "<Figure size 640x480 with 1 Axes>"
      ]
     },
     "metadata": {},
     "output_type": "display_data"
    },
    {
     "name": "stdout",
     "output_type": "stream",
     "text": [
      "\n"
     ]
    },
    {
     "data": {
      "image/png": "[encoded data removed]",
      "text/plain": [
       "<Figure size 640x480 with 1 Axes>"
      ]
     },
     "metadata": {},
     "output_type": "display_data"
    }
   ],
   "source": [
    "acc=history.history['accuracy']\n",
    "val_acc=history.history['val_accuracy']\n",
    "loss=history.history['loss']\n",
    "val_loss=history.history['val_loss']\n",
    "\n",
    "epochs=range(len(acc)) # Get number of epochs\n",
    "\n",
    "#------------------------------------------------\n",
    "# Plot training and validation accuracy per epoch\n",
    "#------------------------------------------------\n",
    "plt.plot(epochs, acc, 'r', \"Training Accuracy\")\n",
    "plt.plot(epochs, val_acc, 'b', \"Validation Accuracy\")\n",
    "plt.title('Training and validation accuracy')\n",
    "plt.show()\n",
    "print(\"\")\n",
    "\n",
    "#------------------------------------------------\n",
    "# Plot training and validation loss per epoch\n",
    "#------------------------------------------------\n",
    "plt.plot(epochs, loss, 'r', \"Training Loss\")\n",
    "plt.plot(epochs, val_loss, 'b', \"Validation Loss\")\n",
    "plt.show()"
   ]
  },
  {
   "cell_type": "code",
   "execution_count": 18,
   "id": "be6570ba",
   "metadata": {},
   "outputs": [],
   "source": [
    "from PIL import Image"
   ]
  },
  {
   "cell_type": "code",
   "execution_count": 19,
   "id": "341384e6",
   "metadata": {},
   "outputs": [],
   "source": [
    "image = Image.open('ujicoba.png')\n",
    "images = image\n",
    "image = image.convert('RGB')"
   ]
  },
  {
   "cell_type": "code",
   "execution_count": 20,
   "id": "6aac42ce",
   "metadata": {},
   "outputs": [],
   "source": [
    "image = image.resize((150, 150)) "
   ]
  },
  {
   "cell_type": "code",
   "execution_count": 21,
   "id": "193ed4e5",
   "metadata": {},
   "outputs": [],
   "source": [
    "image_array = np.array(image)"
   ]
  },
  {
   "cell_type": "code",
   "execution_count": 22,
   "id": "370d2332",
   "metadata": {},
   "outputs": [],
   "source": [
    "input_data = image_array / 255.0"
   ]
  },
  {
   "cell_type": "code",
   "execution_count": 23,
   "id": "2eb96a27",
   "metadata": {},
   "outputs": [],
   "source": [
    "input_data = np.expand_dims(input_data, axis=0)"
   ]
  },
  {
   "cell_type": "code",
   "execution_count": 24,
   "id": "09adc58c",
   "metadata": {},
   "outputs": [
    {
     "name": "stdout",
     "output_type": "stream",
     "text": [
      "1/1 [==============================] - 0s 313ms/step\n"
     ]
    }
   ],
   "source": [
    "predictions = model.predict(input_data)"
   ]
  },
  {
   "cell_type": "code",
   "execution_count": 25,
   "id": "1c074519",
   "metadata": {},
   "outputs": [
    {
     "name": "stdout",
     "output_type": "stream",
     "text": [
      "Probability struk: 1.0\n"
     ]
    }
   ],
   "source": [
    "class_0_probability = predictions[0][0]\n",
    "\n",
    "print('Probability struk:', class_0_probability)"
   ]
  }
 ],
 "metadata": {
  "kernelspec": {
   "display_name": "Python 3 (ipykernel)",
   "language": "python",
   "name": "python3"
  },
  "language_info": {
   "codemirror_mode": {
    "name": "ipython",
    "version": 3
   },
   "file_extension": ".py",
   "mimetype": "text/x-python",
   "name": "python",
   "nbconvert_exporter": "python",
   "pygments_lexer": "ipython3",
   "version": "3.8.16"
  }
 },
 "nbformat": 4,
 "nbformat_minor": 5
}
