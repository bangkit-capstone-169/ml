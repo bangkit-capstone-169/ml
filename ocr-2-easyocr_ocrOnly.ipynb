{
 "cells": [
  {
   "cell_type": "code",
   "execution_count": 9,
   "id": "4f4453d4",
   "metadata": {},
   "outputs": [],
   "source": [
    "import cv2\n",
    "import os\n",
    "import re\n",
    "import numpy as np\n",
    "import tensorflow as tf\n",
    "import shutil\n",
    "from shutil import copyfile"
   ]
  },
  {
   "cell_type": "code",
   "execution_count": 10,
   "id": "be6570ba",
   "metadata": {},
   "outputs": [],
   "source": [
    "from PIL import Image"
   ]
  },
  {
   "cell_type": "code",
   "execution_count": 11,
   "id": "341384e6",
   "metadata": {},
   "outputs": [],
   "source": [
    "image = Image.open('ujicoba.png')\n",
    "images = image\n",
    "image = image.convert('RGB')"
   ]
  },
  {
   "cell_type": "code",
   "execution_count": 12,
   "id": "6aac42ce",
   "metadata": {},
   "outputs": [],
   "source": [
    "image = image.resize((150, 150)) "
   ]
  },
  {
   "cell_type": "code",
   "execution_count": 13,
   "id": "193ed4e5",
   "metadata": {},
   "outputs": [],
   "source": [
    "image_array = np.array(image)"
   ]
  },
  {
   "cell_type": "code",
   "execution_count": 14,
   "id": "370d2332",
   "metadata": {},
   "outputs": [],
   "source": [
    "input_data = image_array / 255.0"
   ]
  },
  {
   "cell_type": "code",
   "execution_count": 15,
   "id": "2eb96a27",
   "metadata": {},
   "outputs": [],
   "source": [
    "input_data = np.expand_dims(input_data, axis=0)"
   ]
  },
  {
   "cell_type": "code",
   "execution_count": 16,
   "id": "53b5e324",
   "metadata": {},
   "outputs": [],
   "source": [
    "# text = pytesseract.image_to_string(image)"
   ]
  },
  {
   "cell_type": "code",
   "execution_count": 17,
   "id": "e656c3c8",
   "metadata": {},
   "outputs": [],
   "source": [
    "import easyocr"
   ]
  },
  {
   "cell_type": "code",
   "execution_count": 18,
   "id": "0bbdeb1f",
   "metadata": {},
   "outputs": [
    {
     "name": "stderr",
     "output_type": "stream",
     "text": [
      "Neither CUDA nor MPS are available - defaulting to CPU. Note: This module is much faster with a GPU.\n"
     ]
    }
   ],
   "source": [
    "reader = easyocr.Reader(['en'])"
   ]
  },
  {
   "cell_type": "code",
   "execution_count": 19,
   "id": "13d2b667",
   "metadata": {},
   "outputs": [],
   "source": [
    "result = reader.readtext(images)"
   ]
  },
  {
   "cell_type": "code",
   "execution_count": 22,
   "id": "df9aa3bf",
   "metadata": {},
   "outputs": [
    {
     "name": "stdout",
     "output_type": "stream",
     "text": [
      "17435\n",
      "13500\n",
      "13,500\n",
      "6500\n",
      "33,000\n",
      "33,000\n",
      "6,500\n"
     ]
    }
   ],
   "source": [
    "valid = []\n",
    "pattern = r'^[\\d.,]+$'\n",
    "\n",
    "for detection in result:\n",
    "    text = detection[1]\n",
    "    match = re.search(pattern, text)\n",
    "    if match:\n",
    "        valid.append(text)\n",
    "        print(text)"
   ]
  },
  {
   "cell_type": "code",
   "execution_count": 23,
   "id": "9efcba01",
   "metadata": {},
   "outputs": [],
   "source": [
    "valid = [x for x in valid if not x.startswith('0')]"
   ]
  },
  {
   "cell_type": "code",
   "execution_count": 24,
   "id": "1bc44d45",
   "metadata": {},
   "outputs": [],
   "source": [
    "import locale"
   ]
  },
  {
   "cell_type": "code",
   "execution_count": 25,
   "id": "1a15cbbd",
   "metadata": {},
   "outputs": [],
   "source": [
    "def remove_comma_dot_zero(value):\n",
    "    value = value.replace(',', '')\n",
    "    value = value.replace('.', '')\n",
    "    value = value.lstrip('0')\n",
    "    return value\n"
   ]
  },
  {
   "cell_type": "code",
   "execution_count": 26,
   "id": "e7fa2770",
   "metadata": {},
   "outputs": [],
   "source": [
    "nilai_terubah = []\n",
    "for n in valid:\n",
    "    n = remove_comma_dot_zero(n)\n",
    "    nilai_terubah.append(int(n))"
   ]
  },
  {
   "cell_type": "code",
   "execution_count": 27,
   "id": "770e7c24",
   "metadata": {},
   "outputs": [
    {
     "data": {
      "text/plain": [
       "[17435, 13500, 13500, 6500, 33000, 33000, 6500]"
      ]
     },
     "execution_count": 27,
     "metadata": {},
     "output_type": "execute_result"
    }
   ],
   "source": [
    "nilai_terubah"
   ]
  },
  {
   "cell_type": "code",
   "execution_count": 28,
   "id": "764eca7e",
   "metadata": {},
   "outputs": [
    {
     "data": {
      "text/plain": [
       "33000"
      ]
     },
     "execution_count": 28,
     "metadata": {},
     "output_type": "execute_result"
    }
   ],
   "source": [
    "true_value = max(nilai_terubah)\n",
    "true_value"
   ]
  }
 ],
 "metadata": {
  "kernelspec": {
   "display_name": "Python 3 (ipykernel)",
   "language": "python",
   "name": "python3"
  },
  "language_info": {
   "codemirror_mode": {
    "name": "ipython",
    "version": 3
   },
   "file_extension": ".py",
   "mimetype": "text/x-python",
   "name": "python",
   "nbconvert_exporter": "python",
   "pygments_lexer": "ipython3",
   "version": "3.8.16"
  }
 },
 "nbformat": 4,
 "nbformat_minor": 5
}
